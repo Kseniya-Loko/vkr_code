{
 "cells": [
  {
   "cell_type": "code",
   "execution_count": 1,
   "metadata": {},
   "outputs": [],
   "source": [
    "import pixellib\n",
    "import os\n",
    "import cv2\n",
    "import numpy as np\n",
    "import pandas as pd\n",
    "import pickle"
   ]
  },
  {
   "cell_type": "code",
   "execution_count": 2,
   "metadata": {},
   "outputs": [],
   "source": [
    "from tensorflow.keras.models import Sequential\n",
    "from tensorflow.keras.layers import (\n",
    "    BatchNormalization, SeparableConv2D, MaxPooling2D, Activation, Flatten, Dropout, Dense\n",
    ")\n",
    "from tensorflow.keras import backend as K\n",
    "from pixellib.semantic import semantic_segmentation\n",
    "from pixellib.instance import instance_segmentation\n"
   ]
  },
  {
   "cell_type": "code",
   "execution_count": 3,
   "metadata": {},
   "outputs": [],
   "source": [
    "# Задаем пути проекта\n",
    "\n",
    "root_dir =r'G:\\bulla'\n",
    "\n",
    "file_dir = r'G:\\bulla\\source_image\\work'\n",
    "# file_dir = r'G:\\bulla\\test_out_clear'\n",
    "\n",
    "# test_dir = r'G:\\bulla\\test_source'\n",
    "test_dir = r'G:\\bulla\\test\\test_source'\n",
    "test_out_dir= r'G:\\bulla\\test\\test_out'\n",
    "\n",
    "out_dir =r'G:\\bulla\\segm'\n",
    "\n",
    "maps_dir =r'G:\\bulla\\main_data\\semantic_maps'\n",
    "df_picle_dir =r'G:\\bulla\\main_data\\semantic_df_full'\n",
    "weights_dir = r'G:\\bulla\\main_data\\models_weights'\n",
    "\n",
    "ade20k_dir =r'ade20k'\n",
    "mrcnn_dir = r'mrcnn'\n",
    "mrcnn_average_dir = r'mrcnn_average'\n",
    "pascalvoc_dir =r'pascalvoc'\n"
   ]
  },
  {
   "cell_type": "code",
   "execution_count": 4,
   "metadata": {},
   "outputs": [],
   "source": [
    "# создаем псевдонимы часто вызываемых функций\n",
    "mypath = os.path.join"
   ]
  },
  {
   "cell_type": "code",
   "execution_count": 5,
   "metadata": {},
   "outputs": [],
   "source": [
    "# Определяем функцию получения текстового значения поля сегментации по коду\n",
    "def text_labels(labels,df):\n",
    "    temp_labels =[]\n",
    "    for x in labels:\n",
    "        label = df[df['Idx']==x]['Name'].item()\n",
    "        temp_labels.append(label)\n",
    "    return temp_labels"
   ]
  },
  {
   "cell_type": "code",
   "execution_count": 12,
   "metadata": {},
   "outputs": [
    {
     "name": "stdout",
     "output_type": "stream",
     "text": [
      "WARNING:tensorflow:From C:\\Python36\\lib\\site-packages\\tensorflow\\python\\keras\\layers\\normalization\\batch_normalization.py:532: _colocate_with (from tensorflow.python.framework.ops) is deprecated and will be removed in a future version.\n",
      "Instructions for updating:\n",
      "Colocations handled automatically by placer.\n"
     ]
    }
   ],
   "source": [
    "segment_image = semantic_segmentation()"
   ]
  },
  {
   "cell_type": "code",
   "execution_count": null,
   "metadata": {},
   "outputs": [],
   "source": [
    "# Модель сегментации Xception_ade20k"
   ]
  },
  {
   "cell_type": "code",
   "execution_count": 13,
   "metadata": {},
   "outputs": [],
   "source": [
    "# загружаем в модель таблицу весов\n",
    "segment_image.load_ade20k_model(mypath(weights_dir,'deeplabv3_xception65_ade20k.h5'))"
   ]
  },
  {
   "cell_type": "code",
   "execution_count": 14,
   "metadata": {},
   "outputs": [],
   "source": [
    "# загружаем таблицу цветовой маркировки ade20k в датафрейм pandas\n",
    "labels_table_ade20k = mypath(maps_dir,r'ade20k_semantic_segmentation_classes.txt')\n",
    "df_ade20k_labels = pd.read_csv(mypath(root_dir,labels_table_ade20k), sep='\\t')"
   ]
  },
  {
   "cell_type": "code",
   "execution_count": 15,
   "metadata": {},
   "outputs": [
    {
     "name": "stderr",
     "output_type": "stream",
     "text": [
      "C:\\Python36\\lib\\site-packages\\tensorflow\\python\\keras\\engine\\training.py:2464: UserWarning: `Model.state_updates` will be removed in a future version. This property should not be used in TensorFlow 2.0, as `updates` are applied automatically.\n",
      "  warnings.warn('`Model.state_updates` will be removed in a future version. '\n"
     ]
    },
    {
     "name": "stdout",
     "output_type": "stream",
     "text": [
      "['wall', 'building;edifice', 'sky', 'floor;flooring', 'road;route', 'person;individual;someone;somebody;mortal;soul', 'car;auto;automobile;machine;motorcar', 'box', 'signboard;sign', 'truck;motortruck', 'dirt;track', 'van', 'plaything;toy', 'minibike;motorbike']\n",
      "(609, 800, 3)\n",
      "G:\\bulla\\test\\test_out\\10194039.1.segm.jpg\n"
     ]
    }
   ],
   "source": [
    "# Тестируем работоспособность \n",
    "test_file = r'10194039.1.jpg'\n",
    "segvalues, output  = segment_image.segmentAsAde20k(mypath(test_dir,test_file),overlay = True)\n",
    "cv2.imwrite(mypath(test_out_dir,test_file[:-4])+'.segm.jpg', output)\n",
    "labels = list(np.unique(segvalues))\n",
    "print(text_labels(labels,df_ade20k_labels))\n",
    "print(output.shape)\n",
    "print(str(mypath(test_out_dir,test_file[:-4])+'.segm.jpg'))\n"
   ]
  },
  {
   "cell_type": "code",
   "execution_count": 105,
   "metadata": {},
   "outputs": [],
   "source": [
    "# Запускаем цикл Xception ade20k для основного набора данных. Получаем зображения с наложением маски и датафрейм  разметкой сущностей.\n",
    "model_dir =ade20k_dir\n",
    "df_ade20k_metadata = pd.DataFrame(columns=['ID', 'Things', 'Mask'])\n",
    "for dirpath, dirnames, filenames in os.walk(file_dir):\n",
    "        for x in filenames:\n",
    "            if x[-3:] == 'jpg':\n",
    "                segvalues, output  = segment_image.segmentAsAde20k(mypath(file_dir,x),overlay = True)\n",
    "                cv2.imwrite(mypath(out_dir,model_dir,x[:-4])+'.segm.jpg', output)\n",
    "                labels = text_labels(list(np.unique(segvalues)),df_ade20k_labels)\n",
    "                row = {'ID':x[:-6], 'Things':labels, 'Mask':segvalues}\n",
    "                df1 = pd.DataFrame([row])\n",
    "                df_ade20k_metadata = pd.concat([df_ade20k_metadata,df1],axis = 0,ignore_index=True)\n",
    "         "
   ]
  },
  {
   "cell_type": "code",
   "execution_count": 19,
   "metadata": {},
   "outputs": [],
   "source": [
    "# Загружаем дамп метаданных ade20k\n",
    "with open(mypath(r'G:\\bulla\\main_data\\semantic_df_full',r'df_ade20k_metadata.pickle'), 'rb') as f:\n",
    "    df_ade20k_metadata = pickle.load(f)"
   ]
  },
  {
   "cell_type": "code",
   "execution_count": 20,
   "metadata": {},
   "outputs": [
    {
     "data": {
      "text/html": [
       "<div>\n",
       "<style scoped>\n",
       "    .dataframe tbody tr th:only-of-type {\n",
       "        vertical-align: middle;\n",
       "    }\n",
       "\n",
       "    .dataframe tbody tr th {\n",
       "        vertical-align: top;\n",
       "    }\n",
       "\n",
       "    .dataframe thead th {\n",
       "        text-align: right;\n",
       "    }\n",
       "</style>\n",
       "<table border=\"1\" class=\"dataframe\">\n",
       "  <thead>\n",
       "    <tr style=\"text-align: right;\">\n",
       "      <th></th>\n",
       "      <th>ID</th>\n",
       "      <th>Things</th>\n",
       "      <th>Mask</th>\n",
       "    </tr>\n",
       "  </thead>\n",
       "  <tbody>\n",
       "    <tr>\n",
       "      <th>0</th>\n",
       "      <td>10193973</td>\n",
       "      <td>[wall, floor;flooring, ceiling, cabinet, perso...</td>\n",
       "      <td>[[1, 1, 1, 6, 6, 6, 6, 6, 6, 6, 6, 6, 6, 6, 6,...</td>\n",
       "    </tr>\n",
       "    <tr>\n",
       "      <th>1</th>\n",
       "      <td>10193980</td>\n",
       "      <td>[wall, floor;flooring, ceiling, person;individ...</td>\n",
       "      <td>[[44, 44, 44, 44, 44, 44, 44, 44, 44, 44, 44, ...</td>\n",
       "    </tr>\n",
       "    <tr>\n",
       "      <th>2</th>\n",
       "      <td>10193983</td>\n",
       "      <td>[wall, floor;flooring, ceiling, person;individ...</td>\n",
       "      <td>[[6, 44, 44, 44, 44, 44, 44, 44, 44, 44, 44, 4...</td>\n",
       "    </tr>\n",
       "    <tr>\n",
       "      <th>3</th>\n",
       "      <td>10194012</td>\n",
       "      <td>[wall, floor;flooring, ceiling, person;individ...</td>\n",
       "      <td>[[6, 44, 44, 44, 44, 44, 44, 44, 44, 44, 44, 4...</td>\n",
       "    </tr>\n",
       "    <tr>\n",
       "      <th>4</th>\n",
       "      <td>10194018</td>\n",
       "      <td>[wall, floor;flooring, ceiling, person;individ...</td>\n",
       "      <td>[[44, 44, 6, 6, 6, 6, 6, 6, 6, 6, 6, 44, 44, 4...</td>\n",
       "    </tr>\n",
       "    <tr>\n",
       "      <th>...</th>\n",
       "      <td>...</td>\n",
       "      <td>...</td>\n",
       "      <td>...</td>\n",
       "    </tr>\n",
       "    <tr>\n",
       "      <th>1054</th>\n",
       "      <td>33786665</td>\n",
       "      <td>[wall, floor;flooring, painting;picture, poste...</td>\n",
       "      <td>[[1, 1, 1, 1, 1, 1, 1, 1, 1, 1, 1, 1, 1, 1, 1,...</td>\n",
       "    </tr>\n",
       "    <tr>\n",
       "      <th>1055</th>\n",
       "      <td>34103441</td>\n",
       "      <td>[wall, floor;flooring, person;individual;someo...</td>\n",
       "      <td>[[1, 1, 1, 1, 1, 1, 1, 1, 1, 1, 1, 1, 1, 1, 1,...</td>\n",
       "    </tr>\n",
       "    <tr>\n",
       "      <th>1056</th>\n",
       "      <td>34143902</td>\n",
       "      <td>[wall, person;individual;someone;somebody;mort...</td>\n",
       "      <td>[[1, 1, 1, 1, 1, 1, 1, 1, 1, 1, 1, 1, 1, 1, 1,...</td>\n",
       "    </tr>\n",
       "    <tr>\n",
       "      <th>1057</th>\n",
       "      <td>34143939</td>\n",
       "      <td>[wall, person;individual;someone;somebody;mort...</td>\n",
       "      <td>[[1, 1, 1, 1, 1, 1, 1, 1, 1, 1, 1, 1, 1, 1, 1,...</td>\n",
       "    </tr>\n",
       "    <tr>\n",
       "      <th>1058</th>\n",
       "      <td>34143951</td>\n",
       "      <td>[wall, floor;flooring, grass, person;individua...</td>\n",
       "      <td>[[1, 1, 1, 1, 1, 1, 1, 1, 1, 1, 1, 1, 1, 1, 1,...</td>\n",
       "    </tr>\n",
       "  </tbody>\n",
       "</table>\n",
       "<p>1059 rows × 3 columns</p>\n",
       "</div>"
      ],
      "text/plain": [
       "            ID                                             Things  \\\n",
       "0     10193973  [wall, floor;flooring, ceiling, cabinet, perso...   \n",
       "1     10193980  [wall, floor;flooring, ceiling, person;individ...   \n",
       "2     10193983  [wall, floor;flooring, ceiling, person;individ...   \n",
       "3     10194012  [wall, floor;flooring, ceiling, person;individ...   \n",
       "4     10194018  [wall, floor;flooring, ceiling, person;individ...   \n",
       "...        ...                                                ...   \n",
       "1054  33786665  [wall, floor;flooring, painting;picture, poste...   \n",
       "1055  34103441  [wall, floor;flooring, person;individual;someo...   \n",
       "1056  34143902  [wall, person;individual;someone;somebody;mort...   \n",
       "1057  34143939  [wall, person;individual;someone;somebody;mort...   \n",
       "1058  34143951  [wall, floor;flooring, grass, person;individua...   \n",
       "\n",
       "                                                   Mask  \n",
       "0     [[1, 1, 1, 6, 6, 6, 6, 6, 6, 6, 6, 6, 6, 6, 6,...  \n",
       "1     [[44, 44, 44, 44, 44, 44, 44, 44, 44, 44, 44, ...  \n",
       "2     [[6, 44, 44, 44, 44, 44, 44, 44, 44, 44, 44, 4...  \n",
       "3     [[6, 44, 44, 44, 44, 44, 44, 44, 44, 44, 44, 4...  \n",
       "4     [[44, 44, 6, 6, 6, 6, 6, 6, 6, 6, 6, 44, 44, 4...  \n",
       "...                                                 ...  \n",
       "1054  [[1, 1, 1, 1, 1, 1, 1, 1, 1, 1, 1, 1, 1, 1, 1,...  \n",
       "1055  [[1, 1, 1, 1, 1, 1, 1, 1, 1, 1, 1, 1, 1, 1, 1,...  \n",
       "1056  [[1, 1, 1, 1, 1, 1, 1, 1, 1, 1, 1, 1, 1, 1, 1,...  \n",
       "1057  [[1, 1, 1, 1, 1, 1, 1, 1, 1, 1, 1, 1, 1, 1, 1,...  \n",
       "1058  [[1, 1, 1, 1, 1, 1, 1, 1, 1, 1, 1, 1, 1, 1, 1,...  \n",
       "\n",
       "[1059 rows x 3 columns]"
      ]
     },
     "execution_count": 20,
     "metadata": {},
     "output_type": "execute_result"
    }
   ],
   "source": [
    "df_ade20k_metadata"
   ]
  },
  {
   "cell_type": "code",
   "execution_count": 80,
   "metadata": {},
   "outputs": [],
   "source": [
    "# Сохраняем дамп мертаданных ade20k\n",
    "with open(mypath(root_dir,r'df_ade20k_metadata.pickle'), 'wb') as f:\n",
    "    pickle.dump(df_ade20k_metadata, f)"
   ]
  },
  {
   "cell_type": "code",
   "execution_count": null,
   "metadata": {},
   "outputs": [],
   "source": [
    "# Модель семантической сегментации Xception_pascalvoc __________________________________________________________________________________"
   ]
  },
  {
   "cell_type": "code",
   "execution_count": 16,
   "metadata": {},
   "outputs": [],
   "source": [
    "# загружаем таблицу цветовой маркировки pascalvoc в датафрейм pandas\n",
    "labels_table_pascalvoc = mypath(maps_dir,r'pascalvoc_semantic_segmentation_classes.txt')\n",
    "df_pascalvoc_labels = pd.read_csv(mypath(root_dir,labels_table_pascalvoc), sep='\\t')"
   ]
  },
  {
   "cell_type": "code",
   "execution_count": 18,
   "metadata": {},
   "outputs": [],
   "source": [
    "# загружаем в модель таблицу весов\n",
    "segment_image.load_pascalvoc_model(mypath(weights_dir,'deeplabv3_xception_tf_dim_ordering_tf_kernels (2).h5'))"
   ]
  },
  {
   "cell_type": "code",
   "execution_count": 92,
   "metadata": {},
   "outputs": [
    {
     "name": "stdout",
     "output_type": "stream",
     "text": [
      "[\" 'background '\", \"'cow'\", \"'horse'\", \"'person'\"]\n",
      "(609, 800, 3)\n",
      "G:\\bulla\\test_out\\10194039.1.segm.jpg\n"
     ]
    }
   ],
   "source": [
    "# Тестируем работоспособность \n",
    "test_file = r'10194039.1.jpg'\n",
    "segvalues, output  = segment_image.segmentAsPascalvoc(mypath(test_dir,test_file),overlay = True)\n",
    "cv2.imwrite(mypath(test_out_dir,test_file[:-4])+'.segm.jpg', output)\n",
    "labels = text_labels(list(np.unique(segvalues)), df_pascalvoc_labels)\n",
    "print(labels)\n",
    "print(output.shape)\n",
    "print(str(mypath(test_out_dir,test_file[:-4])+'.segm.jpg'))"
   ]
  },
  {
   "cell_type": "code",
   "execution_count": 94,
   "metadata": {},
   "outputs": [],
   "source": [
    "# Запускаем цикл Xception pascalvoc для основного набора данных. Получаем зображения с наложением маски и датафрейм  разметкой сущностей.\n",
    "model_dir =pascalvoc_dir\n",
    "df_pascalvoc_metadata = pd.DataFrame(columns=['ID', 'Things', 'Mask'])\n",
    "for dirpath, dirnames, filenames in os.walk(file_dir):\n",
    "        for x in filenames:\n",
    "            if x[-3:] == 'jpg':\n",
    "                segvalues, output  = segment_image.segmentAsPascalvoc(mypath(file_dir,x),overlay = True)\n",
    "                cv2.imwrite(mypath(out_dir,model_dir,x[:-4])+'.segm.jpg', output)\n",
    "                labels = text_labels(list(np.unique(segvalues)), df_pascalvoc_labels)\n",
    "                row = {'ID':x[:-6], 'Things':labels, 'Mask':segvalues}\n",
    "                df1 = pd.DataFrame([row])\n",
    "                df_pascalvoc_metadata = pd.concat([df_pascalvoc_metadata,df1],axis = 0,ignore_index=True)"
   ]
  },
  {
   "cell_type": "code",
   "execution_count": 106,
   "metadata": {},
   "outputs": [],
   "source": [
    "# Сохраняем дамп датафрейма метаданных\n",
    "with open(mypath(root_dir,r'df_pascalvoc_metadata.pickle'), 'wb') as f:\n",
    "    pickle.dump(df_pascalvoc_metadata, f)"
   ]
  },
  {
   "cell_type": "code",
   "execution_count": 21,
   "metadata": {},
   "outputs": [],
   "source": [
    "with open(mypath(r'G:\\bulla\\main_data\\semantic_df_full',r'df_pascalvoc_metadata.pickle'), 'rb') as f:\n",
    "    df_pascalvoc_metadata = pickle.load(f)"
   ]
  },
  {
   "cell_type": "code",
   "execution_count": 107,
   "metadata": {},
   "outputs": [
    {
     "data": {
      "text/html": [
       "<div>\n",
       "<style scoped>\n",
       "    .dataframe tbody tr th:only-of-type {\n",
       "        vertical-align: middle;\n",
       "    }\n",
       "\n",
       "    .dataframe tbody tr th {\n",
       "        vertical-align: top;\n",
       "    }\n",
       "\n",
       "    .dataframe thead th {\n",
       "        text-align: right;\n",
       "    }\n",
       "</style>\n",
       "<table border=\"1\" class=\"dataframe\">\n",
       "  <thead>\n",
       "    <tr style=\"text-align: right;\">\n",
       "      <th></th>\n",
       "      <th>ID</th>\n",
       "      <th>Things</th>\n",
       "      <th>Mask</th>\n",
       "    </tr>\n",
       "  </thead>\n",
       "  <tbody>\n",
       "    <tr>\n",
       "      <th>0</th>\n",
       "      <td>10193973</td>\n",
       "      <td>[ 'background ', 'person']</td>\n",
       "      <td>[[0, 0, 0, 0, 0, 0, 0, 0, 0, 0, 0, 0, 0, 0, 0,...</td>\n",
       "    </tr>\n",
       "    <tr>\n",
       "      <th>1</th>\n",
       "      <td>10193980</td>\n",
       "      <td>[ 'background ', 'person', 'train']</td>\n",
       "      <td>[[0, 0, 0, 0, 0, 0, 0, 0, 0, 0, 0, 0, 0, 0, 0,...</td>\n",
       "    </tr>\n",
       "    <tr>\n",
       "      <th>2</th>\n",
       "      <td>10193983</td>\n",
       "      <td>[ 'background ', 'person', 'train']</td>\n",
       "      <td>[[19, 19, 19, 19, 19, 19, 19, 19, 19, 19, 19, ...</td>\n",
       "    </tr>\n",
       "    <tr>\n",
       "      <th>3</th>\n",
       "      <td>10194012</td>\n",
       "      <td>[ 'background ', 'person', 'train']</td>\n",
       "      <td>[[19, 19, 19, 19, 19, 19, 19, 19, 19, 19, 19, ...</td>\n",
       "    </tr>\n",
       "    <tr>\n",
       "      <th>4</th>\n",
       "      <td>10194018</td>\n",
       "      <td>[ 'background ', 'person', 'train']</td>\n",
       "      <td>[[0, 0, 0, 0, 0, 0, 0, 0, 0, 0, 0, 0, 0, 0, 0,...</td>\n",
       "    </tr>\n",
       "    <tr>\n",
       "      <th>...</th>\n",
       "      <td>...</td>\n",
       "      <td>...</td>\n",
       "      <td>...</td>\n",
       "    </tr>\n",
       "    <tr>\n",
       "      <th>1054</th>\n",
       "      <td>33786665</td>\n",
       "      <td>[ 'background ']</td>\n",
       "      <td>[[0, 0, 0, 0, 0, 0, 0, 0, 0, 0, 0, 0, 0, 0, 0,...</td>\n",
       "    </tr>\n",
       "    <tr>\n",
       "      <th>1055</th>\n",
       "      <td>34103441</td>\n",
       "      <td>[ 'background ', 'chair', 'person']</td>\n",
       "      <td>[[0, 0, 0, 0, 0, 0, 0, 0, 0, 0, 0, 0, 0, 0, 0,...</td>\n",
       "    </tr>\n",
       "    <tr>\n",
       "      <th>1056</th>\n",
       "      <td>34143902</td>\n",
       "      <td>[ 'background ', 'person']</td>\n",
       "      <td>[[0, 0, 0, 0, 0, 0, 0, 0, 0, 0, 0, 0, 0, 0, 0,...</td>\n",
       "    </tr>\n",
       "    <tr>\n",
       "      <th>1057</th>\n",
       "      <td>34143939</td>\n",
       "      <td>[ 'background ', 'person']</td>\n",
       "      <td>[[0, 0, 0, 0, 0, 0, 0, 0, 0, 0, 0, 0, 0, 0, 0,...</td>\n",
       "    </tr>\n",
       "    <tr>\n",
       "      <th>1058</th>\n",
       "      <td>34143951</td>\n",
       "      <td>[ 'background ', 'bird', 'person']</td>\n",
       "      <td>[[0, 0, 0, 0, 0, 0, 0, 0, 0, 0, 0, 0, 0, 0, 0,...</td>\n",
       "    </tr>\n",
       "  </tbody>\n",
       "</table>\n",
       "<p>1059 rows × 3 columns</p>\n",
       "</div>"
      ],
      "text/plain": [
       "            ID                               Things  \\\n",
       "0     10193973           [ 'background ', 'person']   \n",
       "1     10193980  [ 'background ', 'person', 'train']   \n",
       "2     10193983  [ 'background ', 'person', 'train']   \n",
       "3     10194012  [ 'background ', 'person', 'train']   \n",
       "4     10194018  [ 'background ', 'person', 'train']   \n",
       "...        ...                                  ...   \n",
       "1054  33786665                     [ 'background ']   \n",
       "1055  34103441  [ 'background ', 'chair', 'person']   \n",
       "1056  34143902           [ 'background ', 'person']   \n",
       "1057  34143939           [ 'background ', 'person']   \n",
       "1058  34143951   [ 'background ', 'bird', 'person']   \n",
       "\n",
       "                                                   Mask  \n",
       "0     [[0, 0, 0, 0, 0, 0, 0, 0, 0, 0, 0, 0, 0, 0, 0,...  \n",
       "1     [[0, 0, 0, 0, 0, 0, 0, 0, 0, 0, 0, 0, 0, 0, 0,...  \n",
       "2     [[19, 19, 19, 19, 19, 19, 19, 19, 19, 19, 19, ...  \n",
       "3     [[19, 19, 19, 19, 19, 19, 19, 19, 19, 19, 19, ...  \n",
       "4     [[0, 0, 0, 0, 0, 0, 0, 0, 0, 0, 0, 0, 0, 0, 0,...  \n",
       "...                                                 ...  \n",
       "1054  [[0, 0, 0, 0, 0, 0, 0, 0, 0, 0, 0, 0, 0, 0, 0,...  \n",
       "1055  [[0, 0, 0, 0, 0, 0, 0, 0, 0, 0, 0, 0, 0, 0, 0,...  \n",
       "1056  [[0, 0, 0, 0, 0, 0, 0, 0, 0, 0, 0, 0, 0, 0, 0,...  \n",
       "1057  [[0, 0, 0, 0, 0, 0, 0, 0, 0, 0, 0, 0, 0, 0, 0,...  \n",
       "1058  [[0, 0, 0, 0, 0, 0, 0, 0, 0, 0, 0, 0, 0, 0, 0,...  \n",
       "\n",
       "[1059 rows x 3 columns]"
      ]
     },
     "execution_count": 107,
     "metadata": {},
     "output_type": "execute_result"
    }
   ],
   "source": [
    "df_pascalvoc_metadata"
   ]
  },
  {
   "cell_type": "code",
   "execution_count": 9,
   "metadata": {},
   "outputs": [],
   "source": [
    "# Тест Mask-R-CNN\n",
    "segment_instance=instance_segmentation() # infer_speed = \"average\"  - выбор алгоритма скорости. Убрать параметр для выбора значени по умолчанию ( медленно)\n",
    "segment_instance.load_model(mypath(weights_dir,'mask_rcnn_coco.h5'))\n"
   ]
  },
  {
   "cell_type": "code",
   "execution_count": 7,
   "metadata": {},
   "outputs": [],
   "source": [
    "labels_table_mrcnn = mypath(maps_dir,r'mrcnn_labels.txt')\n",
    "df_mrcnn_labels = pd.read_csv(mypath(root_dir,labels_table_mrcnn), sep='\\t')"
   ]
  },
  {
   "cell_type": "code",
   "execution_count": 8,
   "metadata": {},
   "outputs": [
    {
     "data": {
      "text/html": [
       "<div>\n",
       "<style scoped>\n",
       "    .dataframe tbody tr th:only-of-type {\n",
       "        vertical-align: middle;\n",
       "    }\n",
       "\n",
       "    .dataframe tbody tr th {\n",
       "        vertical-align: top;\n",
       "    }\n",
       "\n",
       "    .dataframe thead th {\n",
       "        text-align: right;\n",
       "    }\n",
       "</style>\n",
       "<table border=\"1\" class=\"dataframe\">\n",
       "  <thead>\n",
       "    <tr style=\"text-align: right;\">\n",
       "      <th></th>\n",
       "      <th>Idx</th>\n",
       "      <th>Name</th>\n",
       "    </tr>\n",
       "  </thead>\n",
       "  <tbody>\n",
       "    <tr>\n",
       "      <th>0</th>\n",
       "      <td>1</td>\n",
       "      <td>person</td>\n",
       "    </tr>\n",
       "    <tr>\n",
       "      <th>1</th>\n",
       "      <td>2</td>\n",
       "      <td>bicycle</td>\n",
       "    </tr>\n",
       "    <tr>\n",
       "      <th>2</th>\n",
       "      <td>3</td>\n",
       "      <td>car</td>\n",
       "    </tr>\n",
       "    <tr>\n",
       "      <th>3</th>\n",
       "      <td>4</td>\n",
       "      <td>motorcycle</td>\n",
       "    </tr>\n",
       "    <tr>\n",
       "      <th>4</th>\n",
       "      <td>5</td>\n",
       "      <td>airplane</td>\n",
       "    </tr>\n",
       "    <tr>\n",
       "      <th>...</th>\n",
       "      <td>...</td>\n",
       "      <td>...</td>\n",
       "    </tr>\n",
       "    <tr>\n",
       "      <th>75</th>\n",
       "      <td>76</td>\n",
       "      <td>vase</td>\n",
       "    </tr>\n",
       "    <tr>\n",
       "      <th>76</th>\n",
       "      <td>77</td>\n",
       "      <td>scissors</td>\n",
       "    </tr>\n",
       "    <tr>\n",
       "      <th>77</th>\n",
       "      <td>78</td>\n",
       "      <td>teddy bear</td>\n",
       "    </tr>\n",
       "    <tr>\n",
       "      <th>78</th>\n",
       "      <td>79</td>\n",
       "      <td>hair drier</td>\n",
       "    </tr>\n",
       "    <tr>\n",
       "      <th>79</th>\n",
       "      <td>80</td>\n",
       "      <td>toothbrush</td>\n",
       "    </tr>\n",
       "  </tbody>\n",
       "</table>\n",
       "<p>80 rows × 2 columns</p>\n",
       "</div>"
      ],
      "text/plain": [
       "    Idx        Name\n",
       "0     1      person\n",
       "1     2     bicycle\n",
       "2     3         car\n",
       "3     4  motorcycle\n",
       "4     5    airplane\n",
       "..  ...         ...\n",
       "75   76        vase\n",
       "76   77    scissors\n",
       "77   78  teddy bear\n",
       "78   79  hair drier\n",
       "79   80  toothbrush\n",
       "\n",
       "[80 rows x 2 columns]"
      ]
     },
     "execution_count": 8,
     "metadata": {},
     "output_type": "execute_result"
    }
   ],
   "source": [
    "df_mrcnn_labels"
   ]
  },
  {
   "cell_type": "code",
   "execution_count": 32,
   "metadata": {},
   "outputs": [],
   "source": [
    "# Запускаем цикл Mask-R-CNN COCO для основного набора данных. С параметром average. Получаем зображения с наложением маски и датафрейм  разметкой сущностей.\n",
    "model_dir = mrcnn_average_dir\n",
    "df_mrcnn_average_metadata = pd.DataFrame(columns=['ID', 'Things', 'Mask','ROI'])\n",
    "for dirpath, dirnames, filenames in os.walk(file_dir):\n",
    "        for x in filenames:\n",
    "            if x[-3:] == 'jpg':\n",
    "                segmask, output = segment_instance.segmentImage(mypath(file_dir,x), show_bboxes= True)\n",
    "                cv2.imwrite(mypath(out_dir, model_dir,x[:-4])+'.instance_overlay_boxed.jpg', output)\n",
    "                labels = segmask['class_ids'] \n",
    "                labels = text_labels(labels, df_mrcnn_labels)\n",
    "                row = {'ID':x[:-6], 'Things':labels, 'Mask':segmask['masks'],'ROI':segmask['rois']}\n",
    "                df1 = pd.DataFrame([row])\n",
    "                df_mrcnn_average_metadata = pd.concat([df_mrcnn_average_metadata,df1],axis = 0,ignore_index=True)"
   ]
  },
  {
   "cell_type": "code",
   "execution_count": 33,
   "metadata": {},
   "outputs": [],
   "source": [
    "# Сохраняем дамп датафрейма метаданных\n",
    "with open(mypath(root_dir,r'df_mrcnn_average_metadata'), 'wb') as f:\n",
    "    pickle.dump(df_mrcnn_average_metadata, f)"
   ]
  },
  {
   "cell_type": "code",
   "execution_count": 10,
   "metadata": {},
   "outputs": [
    {
     "name": "stderr",
     "output_type": "stream",
     "text": [
      "C:\\Python36\\lib\\site-packages\\keras\\engine\\training.py:2470: UserWarning: `Model.state_updates` will be removed in a future version. This property should not be used in TensorFlow 2.0, as `updates` are applied automatically.\n",
      "  warnings.warn('`Model.state_updates` will be removed in a future version. '\n"
     ]
    }
   ],
   "source": [
    "# Запускаем цикл Mask-R-CNN COCO для основного набора данных. Получаем зображения с наложением маски и датафрейм  разметкой сущностей.\n",
    "model_dir = mrcnn_dir\n",
    "df_mrcnn_metadata = pd.DataFrame(columns=['ID', 'Things', 'Mask','ROI'])\n",
    "for dirpath, dirnames, filenames in os.walk(file_dir):\n",
    "        for x in filenames:\n",
    "            if x[-3:] == 'jpg':\n",
    "                segmask, output = segment_instance.segmentImage(mypath(file_dir,x), show_bboxes= True)\n",
    "                cv2.imwrite(mypath(out_dir, model_dir,x[:-4])+'.instance_overlay_boxed.jpg', output)\n",
    "                labels = segmask['class_ids'] \n",
    "                labels = text_labels(labels, df_mrcnn_labels)\n",
    "                row = {'ID':x[:-6], 'Things':labels, 'Mask':segmask['masks'],'ROI':segmask['rois']}\n",
    "                df1 = pd.DataFrame([row])\n",
    "                df_mrcnn_metadata = pd.concat([df_mrcnn_metadata,df1],axis = 0,ignore_index=True)"
   ]
  },
  {
   "cell_type": "code",
   "execution_count": 11,
   "metadata": {},
   "outputs": [],
   "source": [
    "# Сохраняем дамп датафрейма метаданных\n",
    "with open(mypath(root_dir,r'df_mrcnn_metadata.pickle'), 'wb') as f:\n",
    "    pickle.dump(df_mrcnn_metadata, f)"
   ]
  }
 ],
 "metadata": {
  "interpreter": {
   "hash": "63fd5069d213b44bf678585dea6b12cceca9941eaf7f819626cde1f2670de90d"
  },
  "kernelspec": {
   "display_name": "Python 3.9.7 64-bit (system)",
   "language": "python",
   "name": "python3"
  },
  "language_info": {
   "codemirror_mode": {
    "name": "ipython",
    "version": 3
   },
   "file_extension": ".py",
   "mimetype": "text/x-python",
   "name": "python",
   "nbconvert_exporter": "python",
   "pygments_lexer": "ipython3",
   "version": "3.6.6"
  },
  "orig_nbformat": 4
 },
 "nbformat": 4,
 "nbformat_minor": 2
}
